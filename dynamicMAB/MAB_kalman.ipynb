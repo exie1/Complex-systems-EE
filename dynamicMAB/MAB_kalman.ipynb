{
 "cells": [
  {
   "cell_type": "code",
   "execution_count": 1,
   "metadata": {},
   "outputs": [],
   "source": [
    "import numpy as np\n",
    "import matplotlib.pyplot as plt\n",
    "# import plotly.express as px\n",
    "\n",
    "# from classBanditsKalman import Bandits"
   ]
  },
  {
   "cell_type": "code",
   "execution_count": 59,
   "metadata": {},
   "outputs": [],
   "source": [
    "import numpy as np\n",
    "from numpy import random\n",
    "\n",
    "class BanditsKalman:\n",
    "    def __init__(self,total_time):\n",
    "        self.options = 4            # Number of options\n",
    "        self.sigma = 4              # Variance of sampled payoff from option\n",
    "        self.decay = 0.9836         # Decay constant of expected payoff RW\n",
    "        self.decay_centre = 50      # Decay centre of expected payoff RW\n",
    "        self.decay_noise = 2.8      # Variance of expected payoff RW\n",
    "        self.time = total_time      # Total simulation time\n",
    "\n",
    "    def sample(self,mu):\n",
    "        # Sample from input mean and constant variance\n",
    "        return random.normal(mu,self.sigma)\n",
    "    \n",
    "    def genMeans(self,starting_var):\n",
    "        # Generate the mean payoff according to a decaying Gaussian random walk (what is decaying?)\n",
    "        noise = random.normal(0,self.decay_noise,(self.options,self.time))   # Preallocating Gaussian noise for payoff diffusion\n",
    "        payoff0 = np.round(random.normal(50,starting_var,(self.options,1)))            # Defining expected payoffs for step 1\n",
    "        payoff = np.zeros([self.options,self.time])                          # Preallocating payoff walker\n",
    "        payoff[:,0] = np.transpose(payoff0)\n",
    "        for t in range(1,self.time):        # Loop over time and generate expected payoff RW\n",
    "            payoff[:,t] = self.decay*payoff[:,t-1] + (1-self.decay) * self.decay_centre + noise[:,t]\n",
    "        return payoff\n",
    "\n",
    "    def findRegret(self,payoff,result):\n",
    "        optimal_scores = np.zeros(self.time)\n",
    "        optimal_choices = np.zeros(self.time)\n",
    "        for t in range(self.time):\n",
    "            chosen = np.argmax(payoff[:,t])\n",
    "            # optimal_scores[t] = self.sample(payoff[chosen,t])\n",
    "            optimal_scores[t] = payoff[chosen,t]\n",
    "            optimal_choices[t] = chosen\n",
    "        regret = 1 - result/sum(optimal_scores)\n",
    "        return regret, optimal_scores, optimal_choices\n",
    "\n",
    "    def exploit(self,payoff,trials):\n",
    "        scores = np.zeros([trials,self.time])                               # Initialise score history\n",
    "        scores[:,range(self.options)] = [self.sample(payoff[range(self.options),0]) for _ in range(trials)]     # Sample from each option once\n",
    "        chosen = np.argmax(scores,1)\n",
    "        for t in range(self.options,self.time):\n",
    "            scores[:,t] = self.sample(payoff[chosen,t])\n",
    "        return np.sum(scores,1)\n",
    "\n",
    "    def softmax(self,payoff,temp,trials):\n",
    "        ''' Implement softmax algorithm under Kalman filter. Assume all parameters are known.'''\n",
    "        scores = np.zeros([trials,self.time])\n",
    "        # history = {idx:np.zeros([trials,self.time]) for idx in range(self.options)}       # History of priors: need this to be a single vector\n",
    "        history0 = np.zeros([trials,self.options])\n",
    "        history_var0 = np.zeros([trials,self.options])\n",
    "        for option in range(self.options):\n",
    "            scores[:,option] = self.sample(np.zeros(trials) + payoff[option,0])\n",
    "            history0[:,option] = scores[:,option]\n",
    "            history_var0[:,option] = np.zeros(trials) + self.sigma\n",
    "        history = np.repeat(history0[:,np.newaxis,:],self.time,axis=1)\n",
    "        history_var = np.repeat(history_var0[:,np.newaxis,:],self.time,axis=1)\n",
    "        for t in range(1, self.time-self.options):\n",
    "            payoff_priors = history[:,t-1,:]/temp\n",
    "            weights = np.exp(payoff_priors) / np.sum(np.exp(payoff_priors),1).reshape([trials,1])\n",
    "            chosen = (np.random.rand(len(weights),1) < weights.cumsum(axis=1)).argmax(axis=1)\n",
    "            scores[:,t+self.options] = self.sample(payoff[chosen,t])\n",
    "            \n",
    "            # Compute posterior mean and variance\n",
    "            pred_err = scores[:,t+self.options-1] - history[range(len(chosen)),t-1,chosen]\n",
    "            gain = np.sqrt(history_var[range(len(chosen)),t-1,chosen]**2 / (history_var[range(len(chosen)),t-1,chosen]**2 + 4**2))\n",
    "            post_mean = history_var[range(len(chosen)),t-1,chosen] + gain*pred_err\n",
    "            post_var = (1-gain)*history_var[range(len(chosen)),t-1,chosen]\n",
    "\n",
    "            # Compute new prior mean and variance\n",
    "            prior_mean = self.decay*post_mean + (1-self.decay)*self.decay_centre\n",
    "            prior_var = np.sqrt(self.decay**2 * post_var**2 + self.decay_noise)\n",
    "\n",
    "            history[:,t,chosen] = history[:,t-1,chosen]\n",
    "            history[range(len(chosen)),t,chosen] = prior_mean\n",
    "            history_var[range(len(chosen)),t,chosen] = prior_var\n",
    "        return np.sum(scores,1),history\n",
    "\n",
    "\n"
   ]
  },
  {
   "cell_type": "code",
   "execution_count": 76,
   "metadata": {},
   "outputs": [
    {
     "data": {
      "text/plain": [
       "array([0.05882353, 0.2       , 0.6097561 ])"
      ]
     },
     "execution_count": 76,
     "metadata": {},
     "output_type": "execute_result"
    }
   ],
   "source": [
    "test = np.array([[1,3,5],[4,2,3],[2,1,5],[6,4,3]])\n",
    "test[range(3),[0,1,2]]**2 / (test[range(3),[0,1,2]]**2 + 4**2)\n",
    "# print(test)\n",
    "# np.repeat(test[:,:,np.newaxis],3,axis=2)"
   ]
  },
  {
   "cell_type": "code",
   "execution_count": 60,
   "metadata": {},
   "outputs": [
    {
     "data": {
      "image/png": "[encoded data removed]",
      "text/plain": [
       "<Figure size 1800x576 with 1 Axes>"
      ]
     },
     "metadata": {
      "needs_background": "light"
     },
     "output_type": "display_data"
    }
   ],
   "source": [
    "''' Initialising simulation class from loaded payoff function, calculating optimal solution, and printing loaded payoff function'''\n",
    "total_time = 300\n",
    "simu = BanditsKalman(total_time)\n",
    "payoffs = np.genfromtxt('payoffs/payoffs_step2.csv',delimiter=',')\n",
    "[_, optimal_scores,_] = simu.findRegret(payoffs,0)\n",
    "simu.options = len(payoffs)\n",
    "\n",
    "# Plotting payoff distribution with 1 SD error range + optimal picking overlaid\n",
    "fig,ax = plt.subplots(figsize=(25,8))\n",
    "colors = ['blue','green','red','orange']\n",
    "for i in range(len(payoffs)):\n",
    "    plt.plot(range(total_time),payoffs[i,:], color=colors[i], label='Option '+str(i+1))                \n",
    "    plt.fill_between(range(total_time),payoffs[i,:]-simu.sigma, payoffs[i,:]+simu.sigma,color=colors[i],alpha=0.1)\n",
    "plt.plot(range(total_time),optimal_scores,linewidth=1, color='black', label='Optimal')        # Plotting optimal score\n",
    "\n",
    "plt.xlabel('Trial')\n",
    "plt.ylabel('Mean Payoff')\n",
    "plt.legend()\n",
    "plt.show()"
   ]
  },
  {
   "cell_type": "code",
   "execution_count": 71,
   "metadata": {},
   "outputs": [
    {
     "name": "stdout",
     "output_type": "stream",
     "text": [
      "Pure exploit Mean Regret: 0.16997042280432118 , Std: 0.0040052404056011605\n",
      "Proportions sampled (optimal):    blue: 0.5, green: 0.5\n",
      "\n",
      "Pure Softmax Mean Regret: 0.33592073277972956 , Std: 0.0030465035588942953\n"
     ]
    }
   ],
   "source": [
    "''' Simulating trials with the loaded payoff function for the strategies: pure exploitation, discounted softmax, discounted UCB1.\n",
    "    The optimal sampling proportion from each of the options is also shown, and compared to with the proportions sampled by the softmax and UCB algorithms.'''\n",
    "\n",
    "exploit_reward = simu.exploit(payoffs,1000)\n",
    "[exploit_regret, _, optimal_choices] = simu.findRegret(payoffs,exploit_reward)\n",
    "print('Pure exploit Mean Regret: %s'% np.mean(exploit_regret),', Std: %s'% np.std(exploit_regret))\n",
    "unique, counts = np.unique(optimal_choices, return_counts = True)\n",
    "print('Proportions sampled (optimal):   ',(', ').join([colors[int(unique[i])] +': '+str(round(counts[i]/sum(counts),2)) for i in range(len(counts))])+'\\n')\n",
    "\n",
    "# PAYOFF 1 PARMAS: 1, 0.995\n",
    "# PAYOFF 4 PARAMS: 3.55, 0.99\n",
    "# STEP 1 PARAMS: 1.6, 0.99\n",
    "# STEP 2 PARAMS: 3, 0.97\n",
    "softmax_reward, softmax_history = simu.softmax(payoffs,4,5)\n",
    "[softmax_regret, _, _] = simu.findRegret(payoffs,softmax_reward)\n",
    "print('Pure Softmax Mean Regret: %s'% np.mean(softmax_regret),', Std: %s'% np.std(softmax_regret))\n",
    "\n",
    "# print('Proportions sampled (softmax):   ',(', ').join([colors[int(unique[i])] +': '+str(round(counts[i]/sum(counts),2)) for i in range(len(counts))])+'\\n')\n"
   ]
  },
  {
   "cell_type": "code",
   "execution_count": 72,
   "metadata": {},
   "outputs": [
    {
     "data": {
      "text/plain": [
       "array([[[  9.02363833,  40.88032746,  34.69896866],\n",
       "        [  9.02363833, -23.67828595,  34.69896866],\n",
       "        [  9.02363833,  40.88032746,  13.76333395],\n",
       "        ...,\n",
       "        [  9.02363833,  40.88032746,  34.69896866],\n",
       "        [  9.02363833,  40.88032746,  34.69896866],\n",
       "        [  9.02363833,  40.88032746,  34.69896866]],\n",
       "\n",
       "       [[  3.06578839,  51.27911009,  29.13790158],\n",
       "        [  3.06578839, -30.91074565,  29.13790158],\n",
       "        [  3.06578839,  51.27911009,  16.99601508],\n",
       "        ...,\n",
       "        [  3.06578839,  51.27911009,  29.13790158],\n",
       "        [  3.06578839,  51.27911009,  29.13790158],\n",
       "        [  3.06578839,  51.27911009,  29.13790158]],\n",
       "\n",
       "       [[ 14.15489781,  46.28061894,  31.7350511 ],\n",
       "        [ 14.15489781, -27.43424393,  31.7350511 ],\n",
       "        [ 14.15489781,  46.28061894,  15.88314223],\n",
       "        ...,\n",
       "        [ 14.15489781,  46.28061894,  31.7350511 ],\n",
       "        [ 14.15489781,  46.28061894,  31.7350511 ],\n",
       "        [ 14.15489781,  46.28061894,  31.7350511 ]],\n",
       "\n",
       "       [[  7.09718911,  49.34357017,  32.7243785 ],\n",
       "        [  7.09718911, -29.56455784,  32.7243785 ],\n",
       "        [  7.09718911,  49.34357017,  16.18341838],\n",
       "        ...,\n",
       "        [  7.09718911,  49.34357017,  32.7243785 ],\n",
       "        [  7.09718911,  49.34357017,  32.7243785 ],\n",
       "        [  7.09718911,  49.34357017,  32.7243785 ]],\n",
       "\n",
       "       [[  9.51576321,  46.7919509 ,  34.54540345],\n",
       "        [  9.51576321, -27.78988053,  34.54540345],\n",
       "        [  9.51576321,  46.7919509 ,  21.70145918],\n",
       "        ...,\n",
       "        [  9.51576321,  46.7919509 ,  34.54540345],\n",
       "        [  9.51576321,  46.7919509 ,  34.54540345],\n",
       "        [  9.51576321,  46.7919509 ,  34.54540345]]])"
      ]
     },
     "execution_count": 72,
     "metadata": {},
     "output_type": "execute_result"
    }
   ],
   "source": [
    "softmax_history"
   ]
  }
 ],
 "metadata": {
  "interpreter": {
   "hash": "ad2bdc8ecc057115af97d19610ffacc2b4e99fae6737bb82f5d7fb13d2f2c186"
  },
  "kernelspec": {
   "display_name": "Python 3.8.8 ('base')",
   "language": "python",
   "name": "python3"
  },
  "language_info": {
   "codemirror_mode": {
    "name": "ipython",
    "version": 3
   },
   "file_extension": ".py",
   "mimetype": "text/x-python",
   "name": "python",
   "nbconvert_exporter": "python",
   "pygments_lexer": "ipython3",
   "version": "3.8.8"
  },
  "orig_nbformat": 4
 },
 "nbformat": 4,
 "nbformat_minor": 2
}
