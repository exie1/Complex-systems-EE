{
 "cells": [
  {
   "cell_type": "code",
   "execution_count": 9,
   "metadata": {},
   "outputs": [],
   "source": [
    "import numpy as np\n",
    "from numpy import random\n",
    "from random import choices\n",
    "import matplotlib.pyplot as plt\n",
    "import levy\n",
    "# import plotly.express as px"
   ]
  },
  {
   "cell_type": "code",
   "execution_count": 18,
   "metadata": {},
   "outputs": [],
   "source": [
    "class Stimuli:\n",
    "    def __init__(self,mu,dev):\n",
    "        self.mu = mu\n",
    "        self.dev = dev\n",
    "    def sample(self):\n",
    "        return random.normal(self.mu, self.dev)      # random sample from distribution of sample\n",
    "\n",
    "def exploit(candidates,total_time):\n",
    "    scores = [c.sample() for c in candidates]\n",
    "    chosen = candidates[np.argmax(scores)]\n",
    "    for t in range(len(candidates),total_time):\n",
    "        scores.append(chosen.sample())\n",
    "    return sum(scores)\n",
    "\n",
    "def ucb1(candidates, total_time):\n",
    "    scores = []                # Initialise scores\n",
    "    history = {idx: [c.sample()] for idx,c in enumerate(candidates)}   # Init history then sample each option once.\n",
    "    for t in range(len(candidates),total_time):\n",
    "        # Find action + upper confidence bound for each candidate\n",
    "        mu_plus_ucb = [np.mean(history[idx])+np.sqrt(2*np.log(t)/len(history[idx])) for idx in range(len(candidates))]\n",
    "        chosen = candidates[np.argmax(mu_plus_ucb)]     # Find candidate with highest value\n",
    "        score = chosen.sample()                         # Sample from candidate distribution   \n",
    "        scores.append(score)                            # Add to score list\n",
    "        history[candidates.index(chosen)].append(score) # Update history \n",
    "    return history, sum(scores)\n",
    "\n",
    "def softmax(candidates,total_time):\n",
    "    scores = []\n",
    "    history = {idx: [c.sample()] for idx,c in enumerate(candidates)}        # sample each option once\n",
    "    for t in range(len(candidates), total_time): \n",
    "        expected_rewards = [np.mean(history[item]) for item in history]                           # overall reward\n",
    "        weights = [np.exp(np.mean(history[item])) / np.sum(expected_rewards) for item in history] # probability vector\n",
    "        chosen = choices(candidates,np.abs(weights))\n",
    "        score = chosen[0].sample()\n",
    "        scores.append(score)\n",
    "        history[candidates.index(chosen[0])].append(score)\n",
    "    return history, sum(scores)\n",
    "\n",
    "def logistic_noise(candidates,total_time,sigma):  # Should specify the noise separately\n",
    "    scores = []\n",
    "    history = {idx: [c.sample()] for idx,c in enumerate(candidates)}\n",
    "    for t in range(len(candidates), total_time):\n",
    "        expected_rewards = [np.mean(history[item]) for item in history]\n",
    "        std_rewards = [np.std(history[item]) for item in history]\n",
    "        noisy_rewards = random.logistic(expected_rewards, scale = sigma)  # what scale and shape?\n",
    "        chosen = candidates[np.argmax(noisy_rewards)]\n",
    "        score = chosen.sample()\n",
    "        scores.append(score)\n",
    "        history[candidates.index(chosen)].append(score)\n",
    "    return history, sum(scores)\n",
    "\n",
    "def levy_noise(candidates,total_time,sig):  # Consider pregenerating noise\n",
    "    scores = []\n",
    "    history = {idx: [c.sample()] for idx,c in enumerate(candidates)}    # Initialise history and sample options once\n",
    "    levy_noise = levy.random(alpha=1.3,beta=0,mu=0,sigma=sig,shape=(len(candidates),total_time))\n",
    "    for t in range(len(candidates), total_time):\n",
    "        expected_rewards = [np.mean(history[item]) for item in history]\n",
    "        noisy_rewards = expected_rewards + levy_noise[:,t]\n",
    "        chosen = candidates[np.argmax(noisy_rewards)]\n",
    "        score = chosen.sample()\n",
    "        scores.append(score)\n",
    "        history[candidates.index(chosen)].append(score)\n",
    "    return history, sum(scores)"
   ]
  },
  {
   "cell_type": "code",
   "execution_count": 17,
   "metadata": {},
   "outputs": [
    {
     "data": {
      "text/plain": [
       "2"
      ]
     },
     "execution_count": 17,
     "metadata": {},
     "output_type": "execute_result"
    }
   ],
   "source": []
  }
 ],
 "metadata": {
  "interpreter": {
   "hash": "371282e6753d14d443fbb15d6e08148854ec60f394d14bcfd8dba14a91b19a88"
  },
  "kernelspec": {
   "display_name": "Python 3.9.10 64-bit (windows store)",
   "language": "python",
   "name": "python3"
  },
  "language_info": {
   "codemirror_mode": {
    "name": "ipython",
    "version": 3
   },
   "file_extension": ".py",
   "mimetype": "text/x-python",
   "name": "python",
   "nbconvert_exporter": "python",
   "pygments_lexer": "ipython3",
   "version": "3.10.2"
  },
  "orig_nbformat": 4
 },
 "nbformat": 4,
 "nbformat_minor": 2
}
