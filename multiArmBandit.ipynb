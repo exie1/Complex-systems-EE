{
 "cells": [
  {
   "cell_type": "code",
   "execution_count": 21,
   "metadata": {},
   "outputs": [],
   "source": [
    "import numpy as np\n",
    "from numpy import random\n",
    "from random import choices"
   ]
  },
  {
   "cell_type": "code",
   "execution_count": 44,
   "metadata": {},
   "outputs": [],
   "source": [
    "class Stimuli:\n",
    "    def __init__(self,mu,dev):\n",
    "        self.mu = mu\n",
    "        self.dev = dev\n",
    "    def sample(self):\n",
    "        return random.normal(self.mu, self.dev)      # random sample from distribution of sample\n",
    "\n",
    "def ucb1(candidates, total_time):\n",
    "    scores = []                # Initialise scores\n",
    "    history = {idx: [c.sample()] for idx,c in enumerate(candidates)}   # Init history then sample each option once.\n",
    "    for t in range(len(candidates),total_time):\n",
    "        # Find action + upper confidence bound for each candidate\n",
    "        mu_plus_ucb = [np.mean(history[idx])+np.sqrt(2*np.log(t)/len(history[idx])) for idx in range(len(candidates))]\n",
    "        chosen = candidates[np.argmax(mu_plus_ucb)]     # Find candidate with highest value\n",
    "        score = chosen.sample()                         # Sample from candidate distribution   \n",
    "        scores.append(score)                            # Add to score list\n",
    "        history[candidates.index(chosen)].append(score) # Update history \n",
    "    return sum(scores)\n",
    "\n",
    "def softmax(candidates,total_time):\n",
    "    scores = []\n",
    "    history = {idx: [c.sample()] for idx,c in enumerate(candidates)}\n",
    "    for t in range(len(candidates),total_time): \n",
    "        expected_rewards = [np.mean(history[item]) for item in history]                           # overall reward\n",
    "        weights = [np.exp(np.mean(history[item])) / np.sum(expected_rewards) for item in history] # probability vector\n",
    "        chosen = choices(candidates,weights)\n",
    "        score = chosen[0].sample()\n",
    "        scores.append(score)\n",
    "        history[candidates.index(chosen[0])].append(score)\n",
    "    return sum(scores)\n",
    "\n",
    "def logistic_noise(candidates,total_time):"
   ]
  },
  {
   "cell_type": "code",
   "execution_count": 38,
   "metadata": {},
   "outputs": [],
   "source": [
    "mu_vals = [0.3922,0.6555,0.1712,0.7060,0.1300,0.2769,0.0462,0.0971,0.8235]\n",
    "sig_vals = [np.sqrt(0.0005) for i in mu_vals]\n",
    "mu_sig = zip(mu_vals,sig_vals)\n",
    "candidates = [Stimuli(mu,sigma) for mu,sigma in mu_sig]\n",
    "total_time = 500\n",
    "optimal_average = max(mu_vals)*total_time\n"
   ]
  },
  {
   "cell_type": "code",
   "execution_count": 47,
   "metadata": {},
   "outputs": [
    {
     "name": "stdout",
     "output_type": "stream",
     "text": [
      "UCB1 Mean Regret: 0.7055503778490656\n",
      "0.24247926384129448\n"
     ]
    }
   ],
   "source": [
    "ucb1_vals = []\n",
    "for _ in range(10):\n",
    "    val = ucb1(candidates,total_time)\n",
    "    ucb1_vals.append(val)\n",
    "print('UCB1 Mean Regret: %s'%((optimal_average - np.mean(ucb1_vals)) / optimal_average))\n",
    "# Mean regret = how much value was lost compared to optimal normalised by optimal -> lower is better\n",
    "print(np.mean(ucb1_vals)/total_time)"
   ]
  },
  {
   "cell_type": "code",
   "execution_count": 48,
   "metadata": {},
   "outputs": [
    {
     "name": "stdout",
     "output_type": "stream",
     "text": [
      "Softmax Mean Regret: 0.7171119672735508\n",
      "0.2329582949502309\n"
     ]
    }
   ],
   "source": [
    "softmax_vals = []\n",
    "for _ in range(10):         # Number of averages\n",
    "    val = softmax(candidates,total_time)\n",
    "    softmax_vals.append(val)\n",
    "print('Softmax Mean Regret: %s'%((optimal_average - np.mean(softmax_vals)) / optimal_average))\n",
    "# Mean regret = how much value was lost compared to optimal normalised by optimal -> lower is better\n",
    "print(np.mean(softmax_vals)/total_time)"
   ]
  }
 ],
 "metadata": {
  "interpreter": {
   "hash": "aa95d8a2edac1dcb1b00f4030ce332d02e814eaa7e951f5013640ad1ea079d45"
  },
  "kernelspec": {
   "display_name": "Python 3.10.2 ('env_SNC')",
   "language": "python",
   "name": "python3"
  },
  "language_info": {
   "codemirror_mode": {
    "name": "ipython",
    "version": 3
   },
   "file_extension": ".py",
   "mimetype": "text/x-python",
   "name": "python",
   "nbconvert_exporter": "python",
   "pygments_lexer": "ipython3",
   "version": "3.10.2"
  },
  "orig_nbformat": 4
 },
 "nbformat": 4,
 "nbformat_minor": 2
}
