{
 "cells": [
  {
   "cell_type": "code",
   "execution_count": 4,
   "metadata": {},
   "outputs": [],
   "source": [
    "import numpy as np\n",
    "from numpy import random\n",
    "from random import choices\n",
    "import matplotlib.pyplot as plt\n",
    "import levy\n",
    "# import plotly.express as px"
   ]
  },
  {
   "cell_type": "code",
   "execution_count": 11,
   "metadata": {},
   "outputs": [],
   "source": [
    "class Stimuli:\n",
    "    def __init__(self,mu,dev):\n",
    "        self.mu = mu\n",
    "        self.dev = dev\n",
    "    def sample(self):\n",
    "        return random.normal(self.mu, self.dev)      # random sample from distribution of sample\n",
    "\n",
    "def exploit(candidates,total_time):\n",
    "    scores = [c.sample() for c in candidates]\n",
    "    chosen = candidates[np.argmax(scores)]\n",
    "    for t in range(len(candidates),total_time):\n",
    "        scores.append(chosen.sample())\n",
    "    return sum(scores)\n",
    "\n",
    "def ucb1(candidates, total_time):\n",
    "    scores = []                # Initialise scores\n",
    "    history = {idx: [c.sample()] for idx,c in enumerate(candidates)}   # Init history then sample each option once.\n",
    "    for t in range(len(candidates),total_time):\n",
    "        # Find action + upper confidence bound for each candidate\n",
    "        mu_plus_ucb = [np.mean(history[idx])+np.sqrt(2*np.log(t)/len(history[idx])) for idx in range(len(candidates))]\n",
    "        chosen = candidates[np.argmax(mu_plus_ucb)]     # Find candidate with highest value\n",
    "        score = chosen.sample()                         # Sample from candidate distribution   \n",
    "        scores.append(score)                            # Add to score list\n",
    "        history[candidates.index(chosen)].append(score) # Update history \n",
    "    return sum(scores)\n",
    "\n",
    "def softmax(candidates,total_time):\n",
    "    scores = []\n",
    "    history = {idx: [c.sample()] for idx,c in enumerate(candidates)}        # sample each option once\n",
    "    for t in range(len(candidates), total_time): \n",
    "        expected_rewards = [np.mean(history[item]) for item in history]                           # overall reward\n",
    "        weights = [np.exp(np.mean(history[item])) / np.sum(np.exp(expected_rewards)) for item in history] # probability vector\n",
    "        chosen = choices(candidates,weights)     # choose from candidates with ^ weights\n",
    "        score = chosen[0].sample()\n",
    "        scores.append(score)\n",
    "        history[candidates.index(chosen[0])].append(score)\n",
    "    return sum(scores)\n",
    "\n",
    "def logistic_noise(candidates,total_time,sigma):  # Should specify the noise separately\n",
    "    scores = []\n",
    "    history = {idx: [c.sample()] for idx,c in enumerate(candidates)}\n",
    "    for t in range(len(candidates), total_time):\n",
    "        expected_rewards = [np.mean(history[item]) for item in history]\n",
    "        std_rewards = [np.std(history[item]) for item in history]\n",
    "        noisy_rewards = random.logistic(expected_rewards, scale = sigma)  # what scale and shape?\n",
    "        chosen = candidates[np.argmax(noisy_rewards)]\n",
    "        score = chosen.sample()\n",
    "        scores.append(score)\n",
    "        history[candidates.index(chosen)].append(score)\n",
    "    return sum(scores)\n",
    "\n",
    "def levy_noise(candidates,total_time,sig):  # Consider pregenerating noise\n",
    "    scores = []\n",
    "    history = {idx: [c.sample()] for idx,c in enumerate(candidates)}    # Initialise history and sample options once\n",
    "    levy_noise = levy.random(alpha=1.3,beta=0,mu=0,sigma=sig,shape=(len(candidates),total_time))\n",
    "    for t in range(len(candidates), total_time):\n",
    "        expected_rewards = [np.mean(history[item]) for item in history]\n",
    "        noisy_rewards = expected_rewards + levy_noise[:,t]\n",
    "        chosen = candidates[np.argmax(noisy_rewards)]\n",
    "        score = chosen.sample()\n",
    "        scores.append(score)\n",
    "        history[candidates.index(chosen)].append(score)\n",
    "    return sum(scores)"
   ]
  },
  {
   "cell_type": "code",
   "execution_count": 6,
   "metadata": {},
   "outputs": [],
   "source": [
    "# Initialising multi-armed bandit problem\n",
    "num_cand = 3\n",
    "var = 0.5\n",
    "mu_vals = [3*i for i in range(1,num_cand)]      # consider changing setup to overlapping distributions (50/50 prob)\n",
    "sig_vals = [mu*var for mu in mu_vals]\n",
    "mu_sig = zip(mu_vals,sig_vals)\n",
    "candidates = [Stimuli(mu,sigma) for mu,sigma in mu_sig]\n",
    "total_time = 300\n",
    "optimal_average = max(mu_vals)*total_time       # consider changing to sampling from max mu option\n",
    "num_avg = 1000"
   ]
  },
  {
   "cell_type": "markdown",
   "metadata": {},
   "source": [
    "Mean regret metric: how much value was lost compared to the optimal strategy, normalised by the score obtained by the optimal strategy. That is, lower regret is better performance."
   ]
  },
  {
   "cell_type": "code",
   "execution_count": 7,
   "metadata": {},
   "outputs": [
    {
     "name": "stdout",
     "output_type": "stream",
     "text": [
      "Exploit Mean Regret: 0.08576672759045816\n"
     ]
    }
   ],
   "source": [
    "exploit_vals = []\n",
    "for _ in range(1000):         # Number of averages\n",
    "    val = exploit(candidates,total_time)\n",
    "    exploit_vals.append(val)\n",
    "print('Exploit Mean Regret: %s'%((optimal_average - np.mean(exploit_vals)) / optimal_average))"
   ]
  },
  {
   "cell_type": "code",
   "execution_count": 9,
   "metadata": {},
   "outputs": [
    {
     "name": "stdout",
     "output_type": "stream",
     "text": [
      "Levy Noise Mean Regret: 0.0244\n"
     ]
    }
   ],
   "source": [
    "## Testing one algorithm\n",
    "levy_vals = []\n",
    "for _ in range(100):         # Number of averages\n",
    "    val = levy_noise(candidates,total_time,0.3)\n",
    "    levy_vals.append(val)\n",
    "mean_regret = (optimal_average - np.mean(levy_vals)) / optimal_average\n",
    "print('Levy Noise Mean Regret: %s'% round(mean_regret,4))\n"
   ]
  },
  {
   "cell_type": "code",
   "execution_count": 12,
   "metadata": {},
   "outputs": [
    {
     "name": "stdout",
     "output_type": "stream",
     "text": [
      "UCB1 Mean Regret: 0.02664573890106264\n",
      "Softmax Mean Regret: 0.03839605795713952\n",
      "Logistic Noise Mean Regret: 0.028753890189265375\n"
     ]
    }
   ],
   "source": [
    "ucb1_vals = []\n",
    "for _ in range(100):\n",
    "    val = ucb1(candidates,total_time)\n",
    "    ucb1_vals.append(val)\n",
    "print('UCB1 Mean Regret: %s'%((optimal_average - np.mean(ucb1_vals)) / optimal_average))\n",
    "# print(np.mean(ucb1_vals)/total_time)\n",
    "\n",
    "softmax_vals = []\n",
    "for _ in range(100):         # Number of averages\n",
    "    val = softmax(candidates,total_time)\n",
    "    softmax_vals.append(val)\n",
    "print('Softmax Mean Regret: %s'%((optimal_average - np.mean(softmax_vals)) / optimal_average))\n",
    "\n",
    "logistic_vals = []\n",
    "for _ in range(100):         # Number of averages\n",
    "    val = logistic_noise(candidates,total_time,0.3)\n",
    "    logistic_vals.append(val)\n",
    "print('Logistic Noise Mean Regret: %s'%((optimal_average - np.mean(logistic_vals)) / optimal_average))\n"
   ]
  },
  {
   "cell_type": "code",
   "execution_count": 81,
   "metadata": {},
   "outputs": [
    {
     "name": "stdout",
     "output_type": "stream",
     "text": [
      "0.08405849011552652 0.03554234752274265 0.042881902049714184\n"
     ]
    }
   ],
   "source": [
    "print(np.std((optimal_average-np.array(ucb1_vals))/optimal_average),\n",
    "np.std((optimal_average-np.array(levy_vals))/optimal_average),\n",
    "np.std((optimal_average-np.array(softmax_vals))/optimal_average))\n"
   ]
  },
  {
   "cell_type": "code",
   "execution_count": 120,
   "metadata": {},
   "outputs": [],
   "source": [
    "# Initialising multi-armed bandit problem\n",
    "mu_vals = [0.3922,0.6555,0.1712,0.7060,0.1300,0.2769,0.0462,0.0971,0.8235]\n",
    "sig_vals = [0.05 for i in mu_vals]\n",
    "mu_sig = zip(mu_vals,sig_vals)\n",
    "candidates = [Stimuli(mu,sigma) for mu,sigma in mu_sig]\n",
    "total_time = 100\n",
    "\n",
    "bins = 1\n",
    "logistic_vals = []\n",
    "softmax_vals = []\n",
    "opt_vals = []\n",
    "for time in range(1,total_time,bins):\n",
    "    logistic_vals.append(logistic_noise(candidates,time))\n",
    "    softmax_vals.append(softmax(candidates,time))\n",
    "    opt_vals.append(max(mu_vals)*time)\n",
    "\n",
    "logistic_regrets = (np.array(opt_vals) - np.array(logistic_vals)) / np.array(opt_vals)\n",
    "softmax_regrets = (np.array(opt_vals) - np.array(softmax_vals)) / np.array(opt_vals)\n"
   ]
  },
  {
   "cell_type": "code",
   "execution_count": 71,
   "metadata": {},
   "outputs": [
    {
     "ename": "NameError",
     "evalue": "name 'bins' is not defined",
     "output_type": "error",
     "traceback": [
      "\u001b[1;31m---------------------------------------------------------------------------\u001b[0m",
      "\u001b[1;31mNameError\u001b[0m                                 Traceback (most recent call last)",
      "\u001b[1;32mc:\\Users\\Evan Xie\\Documents\\GitHub\\Complex-systems-EE\\multiArmBandit.ipynb Cell 11'\u001b[0m in \u001b[0;36m<module>\u001b[1;34m\u001b[0m\n\u001b[0;32m      <a href='vscode-notebook-cell:/c%3A/Users/Evan%20Xie/Documents/GitHub/Complex-systems-EE/multiArmBandit.ipynb#ch0000007?line=0'>1</a>\u001b[0m fig,ax \u001b[39m=\u001b[39m plt\u001b[39m.\u001b[39msubplots(figsize\u001b[39m=\u001b[39m(\u001b[39m10\u001b[39m,\u001b[39m6\u001b[39m))\n\u001b[1;32m----> <a href='vscode-notebook-cell:/c%3A/Users/Evan%20Xie/Documents/GitHub/Complex-systems-EE/multiArmBandit.ipynb#ch0000007?line=1'>2</a>\u001b[0m ax\u001b[39m.\u001b[39mplot(\u001b[39mrange\u001b[39m(\u001b[39m1\u001b[39m,total_time,bins),softmax_regrets)\n\u001b[0;32m      <a href='vscode-notebook-cell:/c%3A/Users/Evan%20Xie/Documents/GitHub/Complex-systems-EE/multiArmBandit.ipynb#ch0000007?line=2'>3</a>\u001b[0m ax\u001b[39m.\u001b[39mplot(\u001b[39mrange\u001b[39m(\u001b[39m1\u001b[39m,total_time,bins),logistic_regrets)\n\u001b[0;32m      <a href='vscode-notebook-cell:/c%3A/Users/Evan%20Xie/Documents/GitHub/Complex-systems-EE/multiArmBandit.ipynb#ch0000007?line=3'>4</a>\u001b[0m plt\u001b[39m.\u001b[39mshow()\n",
      "\u001b[1;31mNameError\u001b[0m: name 'bins' is not defined"
     ]
    },
    {
     "data": {
      "image/png": "[encoded data removed]",
      "text/plain": [
       "<Figure size 720x432 with 1 Axes>"
      ]
     },
     "metadata": {
      "needs_background": "light"
     },
     "output_type": "display_data"
    }
   ],
   "source": [
    "fig,ax = plt.subplots(figsize=(10,6))\n",
    "ax.plot(range(1,total_time,bins),softmax_regrets)\n",
    "ax.plot(range(1,total_time,bins),logistic_regrets)\n",
    "plt.show()\n",
    "print(np.mean(softmax_regrets),np.mean(logistic_regrets))"
   ]
  },
  {
   "cell_type": "code",
   "execution_count": 88,
   "metadata": {},
   "outputs": [
    {
     "data": {
      "text/plain": [
       "array([0., 0., 0., 0., 0.])"
      ]
     },
     "execution_count": 88,
     "metadata": {},
     "output_type": "execute_result"
    },
    {
     "data": {
      "image/png": "[encoded data removed]",
      "text/plain": [
       "<Figure size 432x288 with 1 Axes>"
      ]
     },
     "metadata": {
      "needs_background": "light"
     },
     "output_type": "display_data"
    }
   ],
   "source": [
    "x = np.linspace(-5,5,200)\n",
    "y = levy.levy(x,1.3,0,0,0.001,cdf = False)\n",
    "plt.plot(x,y)\n",
    "levy.random(alpha = 1.3, beta = 0, mu = 0, sigma = 0, shape = (5,))"
   ]
  }
 ],
 "metadata": {
  "interpreter": {
   "hash": "aa95d8a2edac1dcb1b00f4030ce332d02e814eaa7e951f5013640ad1ea079d45"
  },
  "kernelspec": {
   "display_name": "Python 3.10.2 ('env_SNC')",
   "language": "python",
   "name": "python3"
  },
  "language_info": {
   "codemirror_mode": {
    "name": "ipython",
    "version": 3
   },
   "file_extension": ".py",
   "mimetype": "text/x-python",
   "name": "python",
   "nbconvert_exporter": "python",
   "pygments_lexer": "ipython3",
   "version": "3.10.2"
  },
  "orig_nbformat": 4
 },
 "nbformat": 4,
 "nbformat_minor": 2
}
