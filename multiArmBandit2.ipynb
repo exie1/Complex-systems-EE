{
 "cells": [
  {
   "cell_type": "code",
   "execution_count": 2,
   "metadata": {},
   "outputs": [],
   "source": [
    "import numpy as np\n",
    "from numpy import random\n",
    "from random import choices\n",
    "import matplotlib.pyplot as plt\n",
    "import levy\n",
    "# import plotly.express as px"
   ]
  },
  {
   "cell_type": "code",
   "execution_count": 3,
   "metadata": {},
   "outputs": [],
   "source": [
    "class Stimuli:\n",
    "    def __init__(self,mu,dev):\n",
    "        self.mu = mu\n",
    "        self.dev = dev\n",
    "    def sample(self):\n",
    "        return random.normal(self.mu, self.dev)      # random sample from distribution of sample\n",
    "\n",
    "def exploit(candidates,total_time):\n",
    "    scores = [c.sample() for c in candidates]\n",
    "    chosen = candidates[np.argmax(scores)]\n",
    "    for t in range(len(candidates),total_time):\n",
    "        scores.append(chosen.sample())\n",
    "    return sum(scores)\n",
    "\n",
    "def ucb1(candidates, total_time):\n",
    "    scores = []                # Initialise scores\n",
    "    history = {idx: [c.sample()] for idx,c in enumerate(candidates)}   # Init history then sample each option once.\n",
    "    chosen_history = [i for i,c in enumerate(candidates)]\n",
    "    for t in range(len(candidates),total_time):\n",
    "        # Find action + upper confidence bound for each candidate\n",
    "        mu_plus_ucb = [np.mean(history[idx])+np.sqrt(2*np.log(t)/len(history[idx])) for idx in range(len(candidates))]\n",
    "        chosen = candidates[np.argmax(mu_plus_ucb)]     # Find candidate with highest value\n",
    "        score = chosen.sample()                         # Sample from candidate distribution   \n",
    "        scores.append(score)                            # Add to score list\n",
    "        history[candidates.index(chosen)].append(score) # Update history \n",
    "        chosen_history.append(candidates.index(chosen))\n",
    "    return sum(scores), chosen_history\n",
    "\n",
    "def softmax(candidates,total_time):\n",
    "    scores = []\n",
    "    history = {idx: [c.sample()] for idx,c in enumerate(candidates)}        # sample each option once\n",
    "    chosen_history = [i for i,c in enumerate(candidates)]\n",
    "    for t in range(len(candidates), total_time): \n",
    "        expected_rewards = [np.mean(history[item]) for item in history]                           # overall reward\n",
    "        weights = np.exp(expected_rewards)/np.sum(np.exp(expected_rewards)) # probability vector\n",
    "        chosen = choices(candidates,weights)     # choose from candidates with ^ weights\n",
    "        score = chosen[0].sample()              # returned as [element]\n",
    "        scores.append(score)\n",
    "        history[candidates.index(chosen[0])].append(score)\n",
    "        chosen_history.append(candidates.index(chosen[0]))\n",
    "    return sum(scores), chosen_history\n",
    "\n",
    "def logistic_noise(candidates,total_time,sigma):  # Should specify the noise separately\n",
    "    scores = []\n",
    "    history = {idx: [c.sample()] for idx,c in enumerate(candidates)}\n",
    "    chosen_history = [i for i,c in enumerate(candidates)]\n",
    "    for t in range(len(candidates), total_time):\n",
    "        expected_rewards = [np.mean(history[item]) for item in history]\n",
    "        std_rewards = [np.std(history[item]) for item in history]\n",
    "        noisy_rewards = random.logistic(expected_rewards, scale = sigma)  # what scale and shape?\n",
    "        chosen = candidates[np.argmax(noisy_rewards)]\n",
    "        score = chosen.sample()\n",
    "        scores.append(score)\n",
    "        history[candidates.index(chosen)].append(score)\n",
    "        chosen_history.append(candidates.index(chosen))\n",
    "    return sum(scores), chosen_history\n",
    "\n",
    "def levy_noise(candidates,total_time,alpha,sig):  # Consider pregenerating noise\n",
    "    scores = []\n",
    "    history = {idx: [c.sample()] for idx,c in enumerate(candidates)}    # Initialise history and sample options once\n",
    "    chosen_history = [i for i,c in enumerate(candidates)]\n",
    "    levy_noise = levy.random(alpha=alpha,beta=0,mu=0,sigma=sig,shape=(len(candidates),total_time))\n",
    "    for t in range(len(candidates), total_time):\n",
    "        expected_rewards = [np.mean(history[item]) for item in history]\n",
    "        noisy_rewards = expected_rewards + levy_noise[:,t]\n",
    "        chosen = candidates[np.argmax(noisy_rewards)]\n",
    "        score = chosen.sample()\n",
    "        scores.append(score)\n",
    "        history[candidates.index(chosen)].append(score)\n",
    "        chosen_history.append(candidates.index(chosen))\n",
    "\n",
    "    return sum(scores), chosen_history\n",
    "\n",
    "def mean_regret(optimal_average,vals):\n",
    "    regret = (optimal_average - np.mean(vals)) / optimal_average"
   ]
  },
  {
   "cell_type": "code",
   "execution_count": 5,
   "metadata": {},
   "outputs": [
    {
     "name": "stdout",
     "output_type": "stream",
     "text": [
      "0\n",
      "1\n",
      "2\n"
     ]
    },
    {
     "data": {
      "image/png": "[encoded data removed]",
      "text/plain": [
       "<Figure size 720x432 with 1 Axes>"
      ]
     },
     "metadata": {
      "needs_background": "light"
     },
     "output_type": "display_data"
    }
   ],
   "source": [
    "# Initialising multi-armed bandit problem\n",
    "num_cand = 3\n",
    "var = 0.5\n",
    "mu_vals = [2+3*i for i in range(num_cand)]      # consider changing setup to overlapping distributions (50/50 prob)\n",
    "sig_vals = [mu*var for mu in mu_vals]\n",
    "\n",
    "# mu_vals = [20 + 10*i for i in range(num_cand)] \n",
    "# sig_vals = [5 for i in range(num_cand)]\n",
    "# mu_vals = [3,4,5]\n",
    "# sig_vals = np.array([5,4,3])/2\n",
    "\n",
    "mu_sig = zip(mu_vals,sig_vals)\n",
    "candidates = [Stimuli(mu,sigma) for mu,sigma in mu_sig]\n",
    "total_time = 500\n",
    "optimal_average = max(mu_vals)*total_time       # consider changing to sampling from max mu option\n",
    "num_avg = 100\n",
    "\n",
    "fig,ax = plt.subplots(figsize=(10,6))\n",
    "bins = np.linspace(0,100,200)\n",
    "for i in range(0,len(mu_vals)):\n",
    "    plt.plot(bins, 1/(sig_vals[i] * np.sqrt(2 * np.pi)) * np.exp( - (bins - mu_vals[i])**2 / (2 * sig_vals[i]**2) ),\n",
    "         linewidth=2, color='r')\n",
    "    print(i)\n",
    "\n"
   ]
  },
  {
   "cell_type": "code",
   "execution_count": 6,
   "metadata": {},
   "outputs": [
    {
     "name": "stdout",
     "output_type": "stream",
     "text": [
      "Exploit Mean Regret: 0.0960885227778565\n",
      "UCB1 Mean Regret: 0.036363284945382816\n",
      "Softmax Mean Regret: 0.03676027823870766\n",
      "Logistic Noise Mean Regret: 0.04686495717365596\n"
     ]
    }
   ],
   "source": [
    "exploit_vals = []\n",
    "for _ in range(1000):         # Number of averages\n",
    "    val = exploit(candidates,total_time)\n",
    "    exploit_vals.append(val)\n",
    "print('Exploit Mean Regret: %s'%((optimal_average - np.mean(exploit_vals)) / optimal_average))\n",
    "\n",
    "ucb1_vals = []\n",
    "for _ in range(1000):\n",
    "    [val,history] = ucb1(candidates,total_time)\n",
    "    ucb1_vals.append(val)\n",
    "print('UCB1 Mean Regret: %s'%((optimal_average - np.mean(ucb1_vals)) / optimal_average))\n",
    "# print(np.mean(ucb1_vals)/total_time)\n",
    "\n",
    "softmax_vals = []\n",
    "for _ in range(1000):         # Number of averages\n",
    "    [val,history] = softmax(candidates,total_time)\n",
    "    softmax_vals.append(val)\n",
    "print('Softmax Mean Regret: %s'%((optimal_average - np.mean(softmax_vals)) / optimal_average))\n",
    "\n",
    "logistic_vals = []\n",
    "for _ in range(1000):         # Number of averages\n",
    "    [val,history] = logistic_noise(candidates,total_time,0.3)\n",
    "    logistic_vals.append(val)\n",
    "print('Logistic Noise Mean Regret: %s'%((optimal_average - np.mean(logistic_vals)) / optimal_average))\n"
   ]
  },
  {
   "cell_type": "code",
   "execution_count": 7,
   "metadata": {},
   "outputs": [
    {
     "name": "stdout",
     "output_type": "stream",
     "text": [
      "Levy Noise Mean Regret: 0.0398\n"
     ]
    }
   ],
   "source": [
    "levy_vals = []\n",
    "for _ in range(1000):         # Number of averages\n",
    "    [val,history] = levy_noise(candidates,total_time,1.4,0.3)\n",
    "    levy_vals.append(val)\n",
    "mean_regret = (optimal_average - np.mean(levy_vals)) / optimal_average\n",
    "print('Levy Noise Mean Regret: %s'% round(mean_regret,4))"
   ]
  },
  {
   "cell_type": "code",
   "execution_count": 112,
   "metadata": {},
   "outputs": [
    {
     "data": {
      "text/plain": [
       "[<matplotlib.lines.Line2D at 0x217a8fa1f90>]"
      ]
     },
     "execution_count": 112,
     "metadata": {},
     "output_type": "execute_result"
    },
    {
     "data": {
      "image/png": "[encoded data removed]",
      "text/plain": [
       "<Figure size 432x288 with 1 Axes>"
      ]
     },
     "metadata": {
      "needs_background": "light"
     },
     "output_type": "display_data"
    }
   ],
   "source": [
    "[_, history] = ucb1(candidates,total_time)\n",
    "plt.plot(history)\n",
    "\n",
    "# print(np.exp(mu_vals)/np.sum(np.exp(mu_vals)))\n",
    "# print(((optimal_average - np.array(levy_vals)) / optimal_average))"
   ]
  }
 ],
 "metadata": {
  "interpreter": {
   "hash": "371282e6753d14d443fbb15d6e08148854ec60f394d14bcfd8dba14a91b19a88"
  },
  "kernelspec": {
   "display_name": "Python 3.9.10 64-bit (windows store)",
   "language": "python",
   "name": "python3"
  },
  "language_info": {
   "codemirror_mode": {
    "name": "ipython",
    "version": 3
   },
   "file_extension": ".py",
   "mimetype": "text/x-python",
   "name": "python",
   "nbconvert_exporter": "python",
   "pygments_lexer": "ipython3",
   "version": "3.10.2"
  },
  "orig_nbformat": 4
 },
 "nbformat": 4,
 "nbformat_minor": 2
}
